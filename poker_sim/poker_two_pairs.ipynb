{
 "cells": [
  {
   "cell_type": "markdown",
   "metadata": {},
   "source": [
    "# Poker hand simulation - two pairs probability"
   ]
  },
  {
   "cell_type": "markdown",
   "metadata": {},
   "source": [
    "### Global parameters"
   ]
  },
  {
   "cell_type": "code",
   "execution_count": 1,
   "metadata": {},
   "outputs": [],
   "source": [
    "sample_size = 100\n",
    "simulation_size = 200\n",
    "poker_hand_size = 5\n",
    "confidence = 0.95"
   ]
  },
  {
   "cell_type": "markdown",
   "metadata": {},
   "source": [
    "### Create class for deck cards"
   ]
  },
  {
   "cell_type": "code",
   "execution_count": 2,
   "metadata": {},
   "outputs": [],
   "source": [
    "from enum import Enum\n",
    "\n",
    "class Suit(Enum):\n",
    "    __order__ = 'CLUBS DIAMONDS HEARTS SPADES'\n",
    "    CLUBS = 1\n",
    "    DIAMONDS = 2\n",
    "    HEARTS = 3\n",
    "    SPADES = 4\n",
    "\n",
    "class Card:\n",
    "    def __init__(self, value, suit):\n",
    "        self.value = value\n",
    "        self.suit = suit"
   ]
  },
  {
   "cell_type": "markdown",
   "metadata": {},
   "source": [
    "### Create deck"
   ]
  },
  {
   "cell_type": "code",
   "execution_count": 3,
   "metadata": {},
   "outputs": [],
   "source": [
    "deck = []\n",
    "for v in range(13):\n",
    "    for s in Suit:\n",
    "        deck.append(Card(v, s))"
   ]
  },
  {
   "cell_type": "markdown",
   "metadata": {},
   "source": [
    "### Declare simulation function"
   ]
  },
  {
   "cell_type": "code",
   "execution_count": 4,
   "metadata": {},
   "outputs": [],
   "source": [
    "import random\n",
    "\n",
    "def runSimulation():\n",
    "\n",
    "    two_pairs = 0\n",
    "    \n",
    "    for n in range(simulation_size):\n",
    "\n",
    "        #shuffle deck\n",
    "        random.shuffle(deck)\n",
    "        \n",
    "        #counts\n",
    "        pairs_count = 0\n",
    "        \n",
    "        #init dic\n",
    "        count = {}\n",
    "        for i in range(13):\n",
    "            count[i] = 0\n",
    "        \n",
    "        #count cards\n",
    "        for i in range(poker_hand_size):\n",
    "            card = deck[i].value\n",
    "            count[card] += 1\n",
    "    \n",
    "        #count pairs\n",
    "        for i in range(13):\n",
    "            if count[i] == 2:\n",
    "                pairs_count += 1\n",
    "    \n",
    "        #count two pairs\n",
    "        if pairs_count == 2:\n",
    "            two_pairs += 1\n",
    "                \n",
    "    probability = two_pairs / simulation_size\n",
    "    \n",
    "    return probability\n",
    "                "
   ]
  },
  {
   "cell_type": "markdown",
   "metadata": {},
   "source": [
    "### Run simulations"
   ]
  },
  {
   "cell_type": "code",
   "execution_count": 5,
   "metadata": {},
   "outputs": [],
   "source": [
    "data = []\n",
    "for i in range(sample_size):\n",
    "    probability = runSimulation()\n",
    "    data.append(probability)\n"
   ]
  },
  {
   "cell_type": "markdown",
   "metadata": {},
   "source": [
    "### Print statistics"
   ]
  },
  {
   "cell_type": "code",
   "execution_count": 6,
   "metadata": {},
   "outputs": [
    {
     "data": {
      "text/html": [
       "<div>\n",
       "<style scoped>\n",
       "    .dataframe tbody tr th:only-of-type {\n",
       "        vertical-align: middle;\n",
       "    }\n",
       "\n",
       "    .dataframe tbody tr th {\n",
       "        vertical-align: top;\n",
       "    }\n",
       "\n",
       "    .dataframe thead th {\n",
       "        text-align: right;\n",
       "    }\n",
       "</style>\n",
       "<table border=\"1\" class=\"dataframe\">\n",
       "  <thead>\n",
       "    <tr style=\"text-align: right;\">\n",
       "      <th></th>\n",
       "      <th>0</th>\n",
       "    </tr>\n",
       "  </thead>\n",
       "  <tbody>\n",
       "    <tr>\n",
       "      <th>count</th>\n",
       "      <td>100.000000</td>\n",
       "    </tr>\n",
       "    <tr>\n",
       "      <th>mean</th>\n",
       "      <td>0.046800</td>\n",
       "    </tr>\n",
       "    <tr>\n",
       "      <th>std</th>\n",
       "      <td>0.015595</td>\n",
       "    </tr>\n",
       "    <tr>\n",
       "      <th>min</th>\n",
       "      <td>0.015000</td>\n",
       "    </tr>\n",
       "    <tr>\n",
       "      <th>25%</th>\n",
       "      <td>0.038750</td>\n",
       "    </tr>\n",
       "    <tr>\n",
       "      <th>50%</th>\n",
       "      <td>0.045000</td>\n",
       "    </tr>\n",
       "    <tr>\n",
       "      <th>75%</th>\n",
       "      <td>0.055000</td>\n",
       "    </tr>\n",
       "    <tr>\n",
       "      <th>max</th>\n",
       "      <td>0.095000</td>\n",
       "    </tr>\n",
       "  </tbody>\n",
       "</table>\n",
       "</div>"
      ],
      "text/plain": [
       "                0\n",
       "count  100.000000\n",
       "mean     0.046800\n",
       "std      0.015595\n",
       "min      0.015000\n",
       "25%      0.038750\n",
       "50%      0.045000\n",
       "75%      0.055000\n",
       "max      0.095000"
      ]
     },
     "execution_count": 6,
     "metadata": {},
     "output_type": "execute_result"
    }
   ],
   "source": [
    "import pandas as pd\n",
    "\n",
    "df = pd.DataFrame(data)\n",
    "df.describe()\n",
    "    "
   ]
  },
  {
   "cell_type": "code",
   "execution_count": 7,
   "metadata": {},
   "outputs": [
    {
     "name": "stdout",
     "output_type": "stream",
     "text": [
      "confidence interval is: [0.0437056906787055, 0.04989430932129452] at 95%\n"
     ]
    }
   ],
   "source": [
    "import numpy as np\n",
    "import scipy.stats\n",
    "\n",
    "a = 1.0 * np.array(data)\n",
    "m, se = np.mean(a), scipy.stats.sem(a)\n",
    "h = se * scipy.stats.t.ppf((1 + confidence) / 2., sample_size - 1)\n",
    "print(\"confidence interval is: [\" + str(m - h) + \", \" + str(m + h) + \"] at \" + str(int(100 * confidence)) + \"%\") "
   ]
  },
  {
   "cell_type": "markdown",
   "metadata": {},
   "source": [
    "### Print global parameters"
   ]
  },
  {
   "cell_type": "code",
   "execution_count": 8,
   "metadata": {},
   "outputs": [
    {
     "name": "stdout",
     "output_type": "stream",
     "text": [
      "confidence: 0.95\n",
      "sample_size: 100\n",
      "simulation_size: 200\n",
      "poker_hand_size: 5\n"
     ]
    }
   ],
   "source": [
    "print(\"confidence: \" + str(confidence))\n",
    "print(\"sample_size: \" + str(sample_size))  \n",
    "print(\"simulation_size: \" + str(simulation_size))\n",
    "print(\"poker_hand_size: \" + str(poker_hand_size))"
   ]
  }
 ],
 "metadata": {
  "kernelspec": {
   "display_name": "Python 3",
   "language": "python",
   "name": "python3"
  },
  "language_info": {
   "codemirror_mode": {
    "name": "ipython",
    "version": 3
   },
   "file_extension": ".py",
   "mimetype": "text/x-python",
   "name": "python",
   "nbconvert_exporter": "python",
   "pygments_lexer": "ipython3",
   "version": "3.7.1"
  }
 },
 "nbformat": 4,
 "nbformat_minor": 2
}
